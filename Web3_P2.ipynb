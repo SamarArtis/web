{
  "nbformat": 4,
  "nbformat_minor": 0,
  "metadata": {
    "colab": {
      "provenance": []
    },
    "kernelspec": {
      "name": "python3",
      "display_name": "Python 3"
    },
    "language_info": {
      "name": "python"
    }
  },
  "cells": [
    {
      "cell_type": "code",
      "execution_count": 1,
      "metadata": {
        "colab": {
          "base_uri": "https://localhost:8080/"
        },
        "id": "9ohCBfSOSMRj",
        "outputId": "e659ddab-dc71-41b1-fc24-934ef669bd36"
      },
      "outputs": [
        {
          "output_type": "stream",
          "name": "stdout",
          "text": [
            "Looking in indexes: https://pypi.org/simple, https://us-python.pkg.dev/colab-wheels/public/simple/\n",
            "Collecting pycryptodome\n",
            "  Downloading pycryptodome-3.15.0-cp35-abi3-manylinux2010_x86_64.whl (2.3 MB)\n",
            "\u001b[K     |████████████████████████████████| 2.3 MB 5.1 MB/s \n",
            "\u001b[?25hInstalling collected packages: pycryptodome\n",
            "Successfully installed pycryptodome-3.15.0\n"
          ]
        }
      ],
      "source": [
        "pip install pycryptodome"
      ]
    },
    {
      "cell_type": "code",
      "source": [
        "pip install cryptography"
      ],
      "metadata": {
        "colab": {
          "base_uri": "https://localhost:8080/"
        },
        "id": "VYFbiy2RSTTx",
        "outputId": "454e5098-9e67-43cc-a7a3-fb5c048a665d"
      },
      "execution_count": 2,
      "outputs": [
        {
          "output_type": "stream",
          "name": "stdout",
          "text": [
            "Looking in indexes: https://pypi.org/simple, https://us-python.pkg.dev/colab-wheels/public/simple/\n",
            "Collecting cryptography\n",
            "  Downloading cryptography-38.0.3-cp36-abi3-manylinux_2_24_x86_64.whl (4.1 MB)\n",
            "\u001b[K     |████████████████████████████████| 4.1 MB 5.0 MB/s \n",
            "\u001b[?25hRequirement already satisfied: cffi>=1.12 in /usr/local/lib/python3.7/dist-packages (from cryptography) (1.15.1)\n",
            "Requirement already satisfied: pycparser in /usr/local/lib/python3.7/dist-packages (from cffi>=1.12->cryptography) (2.21)\n",
            "Installing collected packages: cryptography\n",
            "Successfully installed cryptography-38.0.3\n"
          ]
        }
      ]
    },
    {
      "cell_type": "code",
      "source": [
        "import binascii\n",
        "import numpy as np\n",
        "import pandas as pd\n",
        "import Crypto\n",
        "import Crypto.Random\n",
        "from Crypto.Hash import SHA\n",
        "from Crypto.PublicKey import RSA\n",
        "from Crypto.Signature import PKCS1_v1_5\n",
        "\n",
        "class Client:\n",
        "    def __init__(self):\n",
        "        random=Crypto.Random.new().read\n",
        "        self._private_key = RSA.generate(1024,random)\n",
        "        self._public_key = self._private_key.publickey()\n",
        "        self._singer=PKCS1_v1_5.new(self._private_key)\n",
        "    @property\n",
        "    def identity(self):\n",
        "        return binascii.hexlify(self._public_key.exportKey(format='DER')).decode('ascii')"
      ],
      "metadata": {
        "id": "u0kYTVe4ST0P"
      },
      "execution_count": 3,
      "outputs": []
    },
    {
      "cell_type": "code",
      "source": [
        "Apurv = Client()\n",
        "print(Apurv.identity)"
      ],
      "metadata": {
        "colab": {
          "base_uri": "https://localhost:8080/"
        },
        "id": "Vb2pwLGbSWBP",
        "outputId": "dc7ac49d-0e98-4b21-9c37-723016f6b85b"
      },
      "execution_count": 4,
      "outputs": [
        {
          "output_type": "stream",
          "name": "stdout",
          "text": [
            "30819f300d06092a864886f70d010101050003818d0030818902818100a38f2646aeafb9ad31bbc3e1e0633e1fdb072750f875720bc9457c03271cdd5f327a2bb76bd5e8d6f1682f5748696d032ca0b91d7c47f7a0dada5b67bb1ceca2d7b4d26c842f672f9c6319ac5e4328491c256645df31ba8acfca690f397bab13d5561af1be63d96e402a78e46623091698028636d7894b91bde79f9ac042c5df0203010001\n"
          ]
        }
      ]
    }
  ]
}