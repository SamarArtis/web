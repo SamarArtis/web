{
  "nbformat": 4,
  "nbformat_minor": 0,
  "metadata": {
    "colab": {
      "provenance": []
    },
    "kernelspec": {
      "name": "python3",
      "display_name": "Python 3"
    },
    "language_info": {
      "name": "python"
    }
  },
  "cells": [
    {
      "cell_type": "code",
      "execution_count": 1,
      "metadata": {
        "colab": {
          "base_uri": "https://localhost:8080/"
        },
        "id": "x4JLez-gSgkT",
        "outputId": "e304d89d-4487-473d-c73e-19df65836c18"
      },
      "outputs": [
        {
          "output_type": "stream",
          "name": "stdout",
          "text": [
            "Looking in indexes: https://pypi.org/simple, https://us-python.pkg.dev/colab-wheels/public/simple/\n",
            "Collecting pycryptodome\n",
            "  Downloading pycryptodome-3.15.0-cp35-abi3-manylinux2010_x86_64.whl (2.3 MB)\n",
            "\u001b[K     |████████████████████████████████| 2.3 MB 21.6 MB/s \n",
            "\u001b[?25hInstalling collected packages: pycryptodome\n",
            "Successfully installed pycryptodome-3.15.0\n"
          ]
        }
      ],
      "source": [
        "pip install pycryptodome"
      ]
    },
    {
      "cell_type": "code",
      "source": [
        "pip install cryptography"
      ],
      "metadata": {
        "colab": {
          "base_uri": "https://localhost:8080/"
        },
        "id": "tyzRoo6CSpnp",
        "outputId": "50630f88-041c-4891-b3ea-a8611dea502e"
      },
      "execution_count": 2,
      "outputs": [
        {
          "output_type": "stream",
          "name": "stdout",
          "text": [
            "Looking in indexes: https://pypi.org/simple, https://us-python.pkg.dev/colab-wheels/public/simple/\n",
            "Collecting cryptography\n",
            "  Downloading cryptography-38.0.3-cp36-abi3-manylinux_2_24_x86_64.whl (4.1 MB)\n",
            "\u001b[K     |████████████████████████████████| 4.1 MB 29.3 MB/s \n",
            "\u001b[?25hRequirement already satisfied: cffi>=1.12 in /usr/local/lib/python3.7/dist-packages (from cryptography) (1.15.1)\n",
            "Requirement already satisfied: pycparser in /usr/local/lib/python3.7/dist-packages (from cffi>=1.12->cryptography) (2.21)\n",
            "Installing collected packages: cryptography\n",
            "Successfully installed cryptography-38.0.3\n"
          ]
        }
      ]
    },
    {
      "cell_type": "code",
      "source": [
        "import binascii\n",
        "import numpy as np\n",
        "import pandas as pd\n",
        "import Crypto\n",
        "import Crypto.Random\n",
        "from Crypto.Hash import SHA\n",
        "from Crypto.PublicKey import RSA\n",
        "from Crypto.Signature import PKCS1_v1_5\n",
        "import collections\n",
        "import datetime\n",
        "\n",
        "class Client:\n",
        "    def __init__(self):\n",
        "        random=Crypto.Random.new().read\n",
        "        self._private_key=RSA.generate(1024,random)\n",
        "        self._public_key=self._private_key.publickey()\n",
        "        self.signer=PKCS1_v1_5.new(self._private_key)\n",
        "    @property\n",
        "    def identity(self):\n",
        "        return binascii.hexlify(self._public_key.exportKey(format='DER')).decode(' ascii')\n"
      ],
      "metadata": {
        "id": "VYtFhKkvSr9A"
      },
      "execution_count": 3,
      "outputs": []
    },
    {
      "cell_type": "code",
      "source": [
        "class Transaction:\n",
        "    def __init__(self,sender,recipient,value):\n",
        "        self.sender=sender\n",
        "        self.recipient=recipient\n",
        "        self.value=value\n",
        "        self.time=datetime.datetime.now()\n",
        "    def to_dict(self):\n",
        "        if self.sender==\"Genesis\":\n",
        "            identity=\"Genesis\"\n",
        "        else:\n",
        "            identity=self.sender.identity\n",
        "        return collections.OrderedDict({\n",
        "                'sender':identity,\n",
        "                'recipient':self.recipient,\n",
        "                'value':self.value,\n",
        "                'time':self.time\n",
        "            })\n",
        "        \n",
        "    def sign_transaction(self):\n",
        "      private_key=self.sender._private_key\n",
        "      signer=PKCS1_v1_5.new(private_key)\n",
        "      h=SHA.new(str(self.to_dict()).encode('utf8'))\n",
        "      return binascii.hexlify(signer.sign(h)).decode(\"ascii\")"
      ],
      "metadata": {
        "id": "Ti2UIOhjSwUo"
      },
      "execution_count": 8,
      "outputs": []
    },
    {
      "cell_type": "code",
      "source": [
        "Dinesh=Client()\n",
        "Ramesh=Client()"
      ],
      "metadata": {
        "id": "RP-Ykld2S4zn"
      },
      "execution_count": 9,
      "outputs": []
    },
    {
      "cell_type": "code",
      "source": [
        "t=Transaction(Dinesh,Ramesh.identity,5.0)"
      ],
      "metadata": {
        "id": "tp-02j43S6gv"
      },
      "execution_count": 10,
      "outputs": []
    },
    {
      "cell_type": "code",
      "source": [
        "signature=t.sign_transaction()\n",
        "print(signature)"
      ],
      "metadata": {
        "colab": {
          "base_uri": "https://localhost:8080/"
        },
        "id": "XXke6IYlS8Bv",
        "outputId": "b13a1c3d-370b-48ef-bea3-d32ac964da80"
      },
      "execution_count": 11,
      "outputs": [
        {
          "output_type": "stream",
          "name": "stdout",
          "text": [
            "581d6eeeaab13b8ff13ff57df67c0b33788c72ced441434d318bea9c6dc2f56daa254cf3fe330d268eb395c44e51907111dccb1b10077911ccf99d26889aa6155e46244aeb88e8b53fe8105d0920dc61919dde561a4e084073df234857f6502b51f8a855981e8bd36ef6ef7bb713c8bf2a87a45f06874a18ccc84467f3d12169\n"
          ]
        }
      ]
    },
    {
      "cell_type": "code",
      "source": [
        "def display_transaction(transaction):\n",
        "  dict=transaction.to_dict()\n",
        "  print(\"sender : \"+dict['sender'])\n",
        "  print(\"------------------------------------------\")\n",
        "  print(\"recipient : \"+dict['recipient'])\n",
        "  print(\"------------------------------------------\")\n",
        "  print(\"value : \"+str(dict['value']))\n",
        "  print(\"------------------------------------------\")\n",
        "  print(\"time : \"+str(dict['time']))\n",
        "  print(\"------------------------------------------\")"
      ],
      "metadata": {
        "id": "BdaE7Ii0S9i3"
      },
      "execution_count": 12,
      "outputs": []
    },
    {
      "cell_type": "code",
      "source": [
        "transactions=[]\n",
        "\n",
        "Dinesh=Client()\n",
        "Ramesh=Client()\n",
        "Seema=Client()\n",
        "Vijay=Client()\n",
        "\n",
        "t1= Transaction(Dinesh,Ramesh.identity,18.0)"
      ],
      "metadata": {
        "id": "jqkbY9zl4V8h"
      },
      "execution_count": 15,
      "outputs": []
    },
    {
      "cell_type": "code",
      "source": [
        "t1.sign_transaction()\n",
        "transactions.append(t1)\n",
        "\n",
        "display_transaction(t1)\n",
        "\n",
        "Seema=Client()\n",
        "Vijay=Client()\n",
        "\n",
        "t2= Transaction(Seema,Vijay.identity,18.0)\n",
        "\n",
        "t2.sign_transaction()\n",
        "transactions.append(t2)\n",
        "\n",
        "display_transaction(t2)\n",
        "\n",
        "Inky=Client()\n",
        "Pinky=Client()\n",
        "\n",
        "t3= Transaction(Seema,Vijay.identity,18.0)\n",
        "\n",
        "t3.sign_transaction()\n",
        "transactions.append(t3)\n",
        "\n",
        "display_transaction(t3)\n",
        "\n",
        "Minky=Client()\n",
        "Dinky=Client()\n",
        "\n",
        "t4= Transaction(Minky,Dinky.identity,18.0)\n",
        "\n",
        "t4.sign_transaction()\n",
        "transactions.append(t4)\n",
        "\n",
        "display_transaction(t4)\n",
        "\n",
        "Ram=Client()\n",
        "Shyam=Client()\n",
        "\n",
        "t5= Transaction(Ram,Shyam.identity,18.0)\n",
        "\n",
        "t5.sign_transaction()\n",
        "transactions.append(t5)\n",
        "\n",
        "display_transaction(t5)\n",
        "\n",
        "Alice=Client()\n",
        "Bob=Client()\n",
        "\n",
        "t6= Transaction(Alice,Bob.identity,18.0)\n",
        "\n",
        "t6.sign_transaction()\n",
        "transactions.append(t6)\n",
        "\n",
        "display_transaction(t6)\n",
        "\n",
        "Dolly=Client()\n",
        "Jolly=Client()\n",
        "\n",
        "t7= Transaction(Dolly,Jolly.identity,18.0)\n",
        "\n",
        "t7.sign_transaction()\n",
        "transactions.append(t7)\n",
        "\n",
        "display_transaction(t7)\n",
        "\n",
        "Meena=Client()\n",
        "Reena=Client()\n",
        "\n",
        "t8= Transaction(Meena,Reena.identity,18.0)\n",
        "\n",
        "t8.sign_transaction()\n",
        "transactions.append(t8)\n",
        "\n",
        "display_transaction(t8)\n",
        "\n",
        "Sheela=Client()\n",
        "Leela=Client()\n",
        "\n",
        "t9= Transaction(Sheela,Leela.identity,18.0)\n",
        "\n",
        "t9.sign_transaction()\n",
        "transactions.append(t9)\n",
        "\n",
        "display_transaction(t9)\n",
        "\n",
        "Maya=Client()\n",
        "Chaya=Client()\n",
        "\n",
        "t10= Transaction(Maya,Chaya.identity,18.0)\n",
        "\n",
        "t10.sign_transaction()\n",
        "transactions.append(t10)\n",
        "\n",
        "display_transaction(t10)"
      ],
      "metadata": {
        "colab": {
          "base_uri": "https://localhost:8080/"
        },
        "id": "wuompDUQ4frm",
        "outputId": "35b4e669-b207-49ca-b7b7-cd4699a521ae"
      },
      "execution_count": 14,
      "outputs": [
        {
          "output_type": "stream",
          "name": "stdout",
          "text": [
            "sender : 30819f300d06092a864886f70d010101050003818d0030818902818100cd89d1767a34e2795308c047ce941733a402d3891cacd461571d8cafe69dc2bc1986bd610d32f8a4599ea852723fcc31f11e57ff50e10f72da4224168fb5477d0d590b30c3b65eb8b3b93bf547d47fd24f82556c0fe99cec19d2dd03abc5885be82a9ebb70c1560347959a99ad568f597b61ab2d23b05fd698290032b267696b0203010001\n",
            "------------------------------------------\n",
            "recipient : 30819f300d06092a864886f70d010101050003818d0030818902818100c7fbbad61c4e89d834214739c2e98f5d4156d09b59d5cb72a5edfda664fa1e13015ad7a2a8ac6a9c4a41881b064d3b2857ae94f136f6b66781417001fb5cdfe634ab4470bb8248b8533c6f0550fc65771fc5abc5b83a433ea663e3822f35e57baf2741185d55c36fa84f73e447ea5408edb245e3d3ecd44ff2692cf8c4b45f970203010001\n",
            "------------------------------------------\n",
            "value : 18.0\n",
            "------------------------------------------\n",
            "time : 2022-11-20 16:31:59.687747\n",
            "------------------------------------------\n",
            "sender : 30819f300d06092a864886f70d010101050003818d0030818902818100b57cf34a1e352f75b23abf36c7f96baa57cdfa4a45b102015ace294e4edef058b4822d7cba47b08c6b0ca530c777b013ad4cd64142784b737be862cfdf1ce8235577a7ff218cd335611c453533e272f78548852042253d7bb48b7beab7c67a34e33abe95922a69662ff7cf02f992a4d889ad39afa67b925cfdd0519fa7af53170203010001\n",
            "------------------------------------------\n",
            "recipient : 30819f300d06092a864886f70d010101050003818d0030818902818100b519fdbfb68d9a13095fea8e7d4715b6204a20376c7a8017de0a33620600b1df55c53dab0673d8e5d20a531585068f840350245992c683035400a96ab3b4d1ef93edef5c4ad3718d24513507f9d2e7e61669e551e996eb0cf456efa3e02dbe593b2b07186b005abf4b9f346c3f64b16665f07bc2d2b6b0a4e8ec7056845515b50203010001\n",
            "------------------------------------------\n",
            "value : 18.0\n",
            "------------------------------------------\n",
            "time : 2022-11-20 16:32:16.805617\n",
            "------------------------------------------\n",
            "sender : 30819f300d06092a864886f70d010101050003818d0030818902818100b57cf34a1e352f75b23abf36c7f96baa57cdfa4a45b102015ace294e4edef058b4822d7cba47b08c6b0ca530c777b013ad4cd64142784b737be862cfdf1ce8235577a7ff218cd335611c453533e272f78548852042253d7bb48b7beab7c67a34e33abe95922a69662ff7cf02f992a4d889ad39afa67b925cfdd0519fa7af53170203010001\n",
            "------------------------------------------\n",
            "recipient : 30819f300d06092a864886f70d010101050003818d0030818902818100b519fdbfb68d9a13095fea8e7d4715b6204a20376c7a8017de0a33620600b1df55c53dab0673d8e5d20a531585068f840350245992c683035400a96ab3b4d1ef93edef5c4ad3718d24513507f9d2e7e61669e551e996eb0cf456efa3e02dbe593b2b07186b005abf4b9f346c3f64b16665f07bc2d2b6b0a4e8ec7056845515b50203010001\n",
            "------------------------------------------\n",
            "value : 18.0\n",
            "------------------------------------------\n",
            "time : 2022-11-20 16:32:17.338308\n",
            "------------------------------------------\n",
            "sender : 30819f300d06092a864886f70d010101050003818d0030818902818100ad44ab14de7ba2e4685a9001f7261f842b303903c8218010cecfd77391fefd2e1f0ca56d17de9f0f2f7a2bbe62900ca6640fe71958a4921025afe2a6b2c14893d3de7612cc007dd37cbb6949c7424d7f9648344031e91f30453dc6b2652378f714ff2ee2d9dc2aa226d62f77d056368223dac17c170dae9b40e25d8c64bbd0770203010001\n",
            "------------------------------------------\n",
            "recipient : 30819f300d06092a864886f70d010101050003818d0030818902818100d4fbcefb44ddb11024c322568ce30688b742d91947c877958a2fa52bc84a1656f97deb517060d2ed09b4591e9b71b0cbb2ba866b2b11f215d3eb6bf17caaf2f0e2d05d587c966791add4c57e704d4143d8e994f2c075b54895554088d48462c094ab758c4b55ddee76667aa6b99fcd3f0c7a37f37e233c2789b9cb45bdbd99d90203010001\n",
            "------------------------------------------\n",
            "value : 18.0\n",
            "------------------------------------------\n",
            "time : 2022-11-20 16:32:17.553362\n",
            "------------------------------------------\n",
            "sender : 30819f300d06092a864886f70d010101050003818d0030818902818100bab4993e1c751635e64953c65190334d198210b831c0dced6150a51db5daa32e26cd7f7cd43ce6f93f6907682f8e21bc312987301950100714c1a09f509b99806203a53ee9c658696b37445c2c4e92af481476be19bd62e917603940f43c14a2dcbd525e7c59eac1ba6c00791d682ab6b8fc40269f876b07368b7d53cf4e2fd90203010001\n",
            "------------------------------------------\n",
            "recipient : 30819f300d06092a864886f70d010101050003818d0030818902818100e6d9028db91eb2cf13382b6258ae5c1f6f6eadd70c70d5f99065cb3465c2fd101c6e93a6eb4e2bb3c6d09bd8d7db6b325275201f3305afd3cd2d464b311478de9e80943faf9f8fd616fea8106c874f77f56d2eef7566c26698d5c273c3009807c0d39d4c4139de939c55452198242764374ff185bae53bd6a0e4c14aa64635ef0203010001\n",
            "------------------------------------------\n",
            "value : 18.0\n",
            "------------------------------------------\n",
            "time : 2022-11-20 16:32:18.055322\n",
            "------------------------------------------\n",
            "sender : 30819f300d06092a864886f70d010101050003818d0030818902818100d2a8f115ec838c85c4042fa0032f3198c5e4c858a9eba2a43429637911912574962dc6c8c96af7da5e5f228a858fa7d70448f308f9c6d937e63537e06e1d1ed7edaa2ec4dcfb2fe4dbee24ff97b2ac79a09f99582331bde11df497cd582f45fe8758602144e1138fe839d6c56816e4eb6c1cfa391a7aed10423c2a0e16b5f6070203010001\n",
            "------------------------------------------\n",
            "recipient : 30819f300d06092a864886f70d010101050003818d0030818902818100b9ca9751cd54ae1106cd83bccf6568ca8c3e299e63c8fd07754d9b5398ba6f105f048b939e95eb6042f7c44d44b232386757c13a9d635fcc201b5bb04841a45f6cf2fd1836b7751413b7203d9c1089ae41ae6ad4bec97e5e2aa0bdc66f888a41639c011f33a60a893ce505fb7a76acefa77ef17bd0154b03e0d0365cd75a67330203010001\n",
            "------------------------------------------\n",
            "value : 18.0\n",
            "------------------------------------------\n",
            "time : 2022-11-20 16:32:18.218377\n",
            "------------------------------------------\n",
            "sender : 30819f300d06092a864886f70d010101050003818d0030818902818100a6d2b1f6b22f5f2348ca770bef75362f2b3fa00e13d9b46e00af87dccb2da0b0da083a966314f1d1d72228bf9f6a452c082974f8a30ff7148a93709f2ac5ff1dc042cb74dd9fe583c193b652e8e7112e9c182a543d1624c9146912ba50515023757a298a38f80a396b6f872ba723309f5f14f98f89bb229706ad8e35a92a0d6d0203010001\n",
            "------------------------------------------\n",
            "recipient : 30819f300d06092a864886f70d010101050003818d0030818902818100b11f8b09025b84124bd304be242b9621d4823766c323efb4776f37831efba8c4917bd8c80b125e5b976d180b309181c2fcd306269b4f59221c678ff695ac3629dfc0080c21f76b9faefa216a8e18621bddf4dc114764df07b55c58237dbd8b6e4c9b7ec1e91956012f89b7ee780f1c87369a9324d69f290060049c9f324c03c10203010001\n",
            "------------------------------------------\n",
            "value : 18.0\n",
            "------------------------------------------\n",
            "time : 2022-11-20 16:32:18.589992\n",
            "------------------------------------------\n",
            "sender : 30819f300d06092a864886f70d010101050003818d0030818902818100d4fd80c6bdad6c0e10fcc77c4d8ebbfb03b188abcbfcf870d31d5ce2ee6de903e0b89fb031e4178fce185742e73337a2b1d464bb76adb386bd6b2296272397d97a43b0cdf9d38754701c37a760be703b51124e5fa4ece2f9c279a175ee03b40c1d308a55ae8997b4f3dac89dc1763133c38cd25895dc1ff28268886c6dc8abe10203010001\n",
            "------------------------------------------\n",
            "recipient : 30819f300d06092a864886f70d010101050003818d0030818902818100afadaddcec54767a551e8c9c528fb6d15487f3a498b14071e0421372b21040db07156be0426cd8bc865f96cfc0b6cf8088072d62b448d8f642bf1b52d0e79613ed9574d2f6e53dc6be210a6f149bdaffdec0528fdd1aa5a994b1dc096c6d4c00664bd4f6e061f4b9810e2d41dba6cd99415c1026555f440c0ca8fa515a03457f0203010001\n",
            "------------------------------------------\n",
            "value : 18.0\n",
            "------------------------------------------\n",
            "time : 2022-11-20 16:32:19.220831\n",
            "------------------------------------------\n",
            "sender : 30819f300d06092a864886f70d010101050003818d0030818902818100e81cf2961d11bbaa8cd74f4e966d43bcd46011464a212b2bfa0e94e7a7ab8d684ed882d46cacf42fa60f5577c755def0b05ebc3c534af7b9a2084e1bb57a3385d82052efa8bcbc2e56d2bc975fbdd73c8e215d3a0bbfaaaec1ca0201c8f574e2a42cfa41f52f8a4a589dc521939d270322dc149e72ed272a0f086a4c269e0f790203010001\n",
            "------------------------------------------\n",
            "recipient : 30819f300d06092a864886f70d010101050003818d0030818902818100de3fa81030da2edef8b1ee883d90804cbc45653b1af0125571d4d005dfee52a7549ff7078aa0790789c008bb0a17e54e2f4dd6561ce37fabdced7cdfe880d56e6fed5312ec70f9b32f7c744461f98a803e3a6d8886581cbfd936b8ef474b87b9c0f203ee1b70e7e1691e9c3bc6b8af46da34bee41ef2fb7b9699332fc7ec48a90203010001\n",
            "------------------------------------------\n",
            "value : 18.0\n",
            "------------------------------------------\n",
            "time : 2022-11-20 16:32:19.578292\n",
            "------------------------------------------\n",
            "sender : 30819f300d06092a864886f70d010101050003818d0030818902818100c81f72a5a8a388ba5cbfcf7767730d7bb19127bea2e03980592b5c3d16c51e10be76ef4057ac30a5ffa4dfb412ace3a63cf6e197816394f0522f78b9878916b3eb4eecabed46247c4409e0431f8ea972c3f68388fed39cc2a0754905536149a769cde918ce21bcfb22027f23576ca99674dddb376544e4f055b664335a2457570203010001\n",
            "------------------------------------------\n",
            "recipient : 30819f300d06092a864886f70d010101050003818d0030818902818100d289351be4a26839f7f34ccec82349af21d63572fd70bf980394eeccff5d163f235e7b58305b5dffbfe5cbafe8373b667c0462c4f6ba1057c8c7e00c2d137f9445d252da9f92adf066085bcb701d362cd5cb8e00d7a28ff4393c4019791364be50c40091ffdd83624ec18b6018fd808d65e81680ce5f00ff87a3f2a98a16566d0203010001\n",
            "------------------------------------------\n",
            "value : 18.0\n",
            "------------------------------------------\n",
            "time : 2022-11-20 16:32:20.122927\n",
            "------------------------------------------\n"
          ]
        }
      ]
    }
  ]
}